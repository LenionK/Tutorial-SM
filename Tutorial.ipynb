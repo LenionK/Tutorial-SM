{
 "cells": [
  {
   "cell_type": "markdown",
   "metadata": {},
   "source": [
    "# <span style=\"color:#a749eb;\">**Tutorial API di Twitch**</span>"
   ]
  },
  {
   "cell_type": "markdown",
   "metadata": {},
   "source": [
    "\n",
    "<span style=\"color:#a749eb;\">**Nome**:</span> *Salvatore Mario*\n",
    "\n",
    "<span style=\"color:#a749eb;\">**Cognome**:</span> *Carota*\n",
    "\n",
    "<span style=\"color:#a749eb;\">**Matricola**:</span> 1000015001\n",
    "\n",
    "<span style=\"color:#a749eb;\">**Corso**:</span> SOCIAL MEDIA MANAGEMENT\n",
    "\n",
    "<span style=\"color:#a749eb;\">**Docente**:</span> *Francesco Ragusa*"
   ]
  },
  {
   "cell_type": "markdown",
   "metadata": {},
   "source": [
    "<br> <p align=\"center\" ><img src=\"https://upload.wikimedia.org/wikipedia/commons/thumb/c/ce/Twitch_logo_2019.svg/2560px-Twitch_logo_2019.svg.png\" style=\"width: 300px\"></p> <br>"
   ]
  },
  {
   "cell_type": "markdown",
   "metadata": {},
   "source": [
    "# <span style=\"color:#a749eb;\" >**Indice**</span>\n",
    "\n",
    "1. [Introduzione](#introduzione)\n",
    "2. [Guida all'uso API](#guida-api)\n",
    "   - [Registrazioni](#registrazione)\n",
    "   - [Ottenere token di accesso OAuth](#oauth)\n",
    "   - [Uso APi](#usoapi)\n",
    "3. [Analisi dati](#analisi)\n",
    "   - [Capcom Highlights: day 2](#capcom)\n",
    "      - [Aquisizione Dati](#capcom_aquisizione)\n",
    "      - [Preoprocessing dei Dati](#preprocessing_capcom)\n",
    "   - [Dragon's Dogma](#dd)\n",
    "      - [Aquisizione Dati](#capcom_aquisizione)\n",
    "      - [Preoprocessing dei Dati](#preprocessing_capcom)\n"
   ]
  },
  {
   "cell_type": "markdown",
   "metadata": {},
   "source": [
    "# <span style=\"color:#a749eb;\" id=\"introduzione\"> **Introduzione: La Piattaforma di Streaming Twitch**</span>"
   ]
  },
  {
   "cell_type": "markdown",
   "metadata": {},
   "source": [
    "Twitch, la rinomata piattaforma di streaming live online, ha conquistato il cuore di milioni di spettatori e streamer in tutto il mondo, emergendo come l'epicentro dell'intrattenimento digitale in tempo reale."
   ]
  },
  {
   "cell_type": "markdown",
   "metadata": {},
   "source": [
    "### <span style=\"color:#a749eb;\">**Streaming di giochi**</span>\n",
    "\n",
    "Twitch è noto principalmente per il suo streaming di giochi. Gli utenti possono trasmettere in diretta le loro sessioni di gioco, consentendo agli spettatori di seguire e interagire con il giocatore in tempo reale. Questo ha reso Twitch una destinazione popolare per gli appassionati di videogiochi che desiderano guardare e condividere esperienze di gioco."
   ]
  },
  {
   "cell_type": "markdown",
   "metadata": {},
   "source": [
    "### <span style=\"color:#a749eb;\">**Esports**</span>\n",
    "\n",
    "Oltre al gaming, Twitch ospita numerosi tornei e competizioni di esports. Gli spettatori possono seguire i loro giocatori e team preferiti mentre competono in tornei di alto livello di giochi come League of Legends, Dota 2, e Counter-Strike: Global Offensive.\n"
   ]
  },
  {
   "cell_type": "markdown",
   "metadata": {},
   "source": [
    "\n",
    "### <span style=\"color:#a749eb;\">**Diversificazione dei Contenuti di Intrattenimento**</span>\n",
    "\n",
    "Tuttavia, Twitch va ben oltre i confini del gaming, offrendo una vasta gamma di contenuti di intrattenimento in diretta. Dagli streaming creativi alle performance musicali, dai talk show ai podcast, Twitch accoglie una varietà di interessi e passioni, unendo le menti creative di tutto il mondo sotto un unico tetto virtuale."
   ]
  },
  {
   "cell_type": "markdown",
   "metadata": {},
   "source": [
    "\n",
    "### <span style=\"color:#a749eb;\">**Unione nella Comunità Interattiva**</span>\n",
    "\n",
    "La forza trainante di Twitch risiede nella sua vibrante comunità interattiva. La chat in tempo reale permette agli spettatori di condividere risate, emozioni e commenti con gli streamer e con gli altri spettatori, creando legami e connessioni in un ambiente digitale vivace e coinvolgente."
   ]
  },
  {
   "cell_type": "markdown",
   "metadata": {},
   "source": [
    "\n",
    "### <span style=\"color:#a749eb;\">**Sostenere i Creatori: Il Sistema di Supporto Finanziario**</span>\n",
    "\n",
    "Infine, Twitch offre agli spettatori la possibilità di sostenere i loro creatori preferiti attraverso abbonamenti mensili, donazioni e altri gesti di supporto finanziario. Questo permette agli streamer di trasformare la loro passione in una professione, offrendo ai loro sostenitori esperienze uniche e incentivi per creare contenuti sempre più coinvolgenti e di alta qualità.\n",
    "<br>"
   ]
  },
  {
   "cell_type": "markdown",
   "metadata": {},
   "source": [
    "<br>"
   ]
  },
  {
   "cell_type": "markdown",
   "metadata": {},
   "source": [
    "---"
   ]
  },
  {
   "cell_type": "markdown",
   "metadata": {},
   "source": [
    "<br>"
   ]
  },
  {
   "cell_type": "markdown",
   "metadata": {},
   "source": [
    "# <span style=\"color:#a749eb;\" id=\"guida-api\">**Guida all'uso delle API di Twitch**</span>"
   ]
  },
  {
   "cell_type": "markdown",
   "metadata": {},
   "source": [
    "link documentazione: https://dev.twitch.tv/docs/api/"
   ]
  },
  {
   "cell_type": "markdown",
   "metadata": {},
   "source": [
    "## <span style=\"color:#a749eb;\" id = \"registrazione\">**Registrazioni**</span>"
   ]
  },
  {
   "cell_type": "markdown",
   "metadata": {},
   "source": [
    "### <span style=\"color:#a749eb;\" id = \"regitrazioneT\">**Registrazione Account Twitch**</span>\n",
    "Per iniziare ad usare le API di Twitch è necessario un account Twitch,\n",
    "per registrarsi bisogna recarsi al sito <a target=\"blank_\" href=\"https://www.twitch.tv/?lang=it\">www.twitch.tv</a>  e cliccare, in alto a destra, su \"**Iscriviti**\" e successivamente inserire i dati richiesti."
   ]
  },
  {
   "cell_type": "markdown",
   "metadata": {},
   "source": [
    "<p align=\"center\"><img src=\"img/RegApp.png\" style=\"width: 70%\"></p>\n"
   ]
  },
  {
   "cell_type": "markdown",
   "metadata": {},
   "source": [
    "Una volta che hai creato l'account, dovrai confermarlo cliccando sul link contenuto nell'email di verifica che ricevera."
   ]
  },
  {
   "cell_type": "markdown",
   "metadata": {},
   "source": [
    "### <span style=\"color:#a749eb;\" id = \"regitrazioneA\">**Registrazione di una Applicazione**</span>\n"
   ]
  },
  {
   "cell_type": "markdown",
   "metadata": {},
   "source": [
    "Questa fase ci permetterà di avere accesso a delle credenziali che ci permetteranno di effettuare le chiamate al fine di svolgere analisi dei dati. <br> Il primo passo per ottenere un token di accesso è registrare la tua applicazione. <br><br> Per registrare un'applicazione:"
   ]
  },
  {
   "cell_type": "markdown",
   "metadata": {},
   "source": [
    "1. Accedi alla <a target=\"blank_\" href=\"https://dev.twitch.tv/console/apps\">Developer Console</a> utilizzando il tuo account Twitch. <br> Devi anche abilitare l'autenticazione a due fattori (2FA) per il tuo account. Per abilitare 2FA, vai su  <a target=\"blank_\" href=\"https://www.twitch.tv/settings/security\">Sicurezza e Privacy</a> e segui i passaggi per abilitare 2FA nella sezione Sicurezza.<br>\n",
    "Dovrai aggiornare la console affinché queste modifiche abbiano effetto.\n",
    "\n",
    "2. Seleziona la scheda \"**Applications**\" nella <a target=\"blank_\" href=\"https://dev.twitch.tv/console/apps\">Developer Console</a> e quindi fai clic su \"**Register Your Applications**\".\n",
    "\n",
    "<p align=\"center\"><img src=\"img/RegisterApp.png\" style=\"width: 70%\"></p>\n",
    "\n",
    "3. Imposta **Name** della tua applicazione, **Client Type** e **Category**. Il nome deve essere univoco tra tutte le applicazioni Twitch.<br>Il nome della tua app è elencato nella pagina <a target=\"blank_\" href=\"https://www.twitch.tv/settings/connections\">Connections</a> sotto \"**Other Connections**\".\n",
    "\n",
    "<p align=\"center\"><img src=\"img/TutorialApp.png\" style=\"width: 70%\"></p>\n",
    "\n",
    "4. Torna nella scheda \"**Applications**\", individua la tua app in \"**Developer Applications**\" e fai clic su \"**Menage**\".\n",
    "\n",
    "<p align=\"center\"><img src=\"img/Menage.png\" style=\"width: 70%\"></p>\n",
    "\n",
    "5. Conserva il \"**Client ID**\" e il \"**Client Secret**\" che otterrai dopo aver cliccato \"**New Secret**\"\n",
    "\n",
    "<p align=\"center\"><img src=\"img/NewSecret.png\" style=\"width: 70%\"></p>\n",
    "\n"
   ]
  },
  {
   "cell_type": "markdown",
   "metadata": {},
   "source": [
    "## <span style=\"color:#a749eb;\" id =\"oauth\">**Ottenere token di accesso OAuth**</span>"
   ]
  },
  {
   "cell_type": "markdown",
   "metadata": {},
   "source": [
    "Le API di Twitch richiedono token di accesso per accedere alle risorse. A seconda della risorsa a cui accedi, avrai bisogno di un token di **accesso utente** o di **accesso all'app**.<br> Il <a target=\"blank_\" href=\"https://dev.twitch.tv/docs/api/reference/\">  **reference content**</a>  dell'API identifica il tipo di token di accesso di cui avrai bisogno. La differenza tra i due tipi di token è che un token di accesso utente ti consente di accedere ai dati sensibili di un utente (con la sua autorizzazione) e un token di accesso app ti consente di accedere solo ai suoi dati non sensibili (e non richiede l'autorizzazione dell'utente ).<br><br>\n",
    "Per ottenere un token di accesso app sono richiesti:\n",
    "<p align=\"center\"><img src=\"img/tokenapp.png\" style=\"width: 70%\"></p>"
   ]
  },
  {
   "cell_type": "markdown",
   "metadata": {},
   "source": [
    "1. Inseriamo il nostro **Client ID** e la nostra **Secret Key** in due dariabili "
   ]
  },
  {
   "cell_type": "code",
   "execution_count": 10,
   "metadata": {},
   "outputs": [],
   "source": [
    "client_ID = \"inserire client ID\" #Client ID\n",
    "secret_KEY = \"inserire secret key \" #Secret Key"
   ]
  },
  {
   "cell_type": "markdown",
   "metadata": {},
   "source": [
    "2. Per ottenere un token di accesso, invia una richiesta HTTP POST a https://id.twitch.tv/oauth2/token."
   ]
  },
  {
   "cell_type": "code",
   "execution_count": 12,
   "metadata": {},
   "outputs": [],
   "source": [
    "import requests # ci consente di effettuare richieste POST e GET\n",
    "body = {\n",
    "    'client_id': client_ID,\n",
    "    'client_secret': secret_KEY,\n",
    "    \"grant_type\": 'client_credentials'\n",
    "}\n",
    "resp = requests.post('https://id.twitch.tv/oauth2/token', body)"
   ]
  },
  {
   "cell_type": "markdown",
   "metadata": {},
   "source": [
    "3. Se la richiesta ha esito positivo, restituisce un token di accesso in formato Json."
   ]
  },
  {
   "cell_type": "code",
   "execution_count": 13,
   "metadata": {},
   "outputs": [
    {
     "name": "stdout",
     "output_type": "stream",
     "text": [
      "{'access_token': 'uk3mjpscpexal7x3ohlo8ckn1ifeos', 'expires_in': 5259913, 'token_type': 'bearer'}\n"
     ]
    }
   ],
   "source": [
    "import json #Per leggere dati in formato Json\n",
    "token_info = resp.json()\n",
    "print(token_info)\n",
    "\n",
    "myToken = token_info['access_token']"
   ]
  },
  {
   "cell_type": "markdown",
   "metadata": {},
   "source": [
    "<br>"
   ]
  },
  {
   "cell_type": "markdown",
   "metadata": {},
   "source": [
    "\n",
    "\n",
    "---\n",
    "\n"
   ]
  },
  {
   "cell_type": "markdown",
   "metadata": {},
   "source": [
    "<br>"
   ]
  },
  {
   "cell_type": "markdown",
   "metadata": {},
   "source": [
    "\n",
    "## <span style=\"color:#a749eb;\" id =\"usoapi\">**Uso API**</span>\n",
    "\n",
    "Definiamo una variabile \"**headers**\" che ci permetterà di ottenere risposta dall'endpoint, essa deve contenere:<br>\n",
    "- Client ID \n",
    "- Access Token"
   ]
  },
  {
   "cell_type": "code",
   "execution_count": 14,
   "metadata": {},
   "outputs": [],
   "source": [
    "# Intestazione di autorizzazione per la richiesta\n",
    "headers = {\n",
    "    'Client-ID': client_ID,\n",
    "    'Authorization': 'Bearer ' + myToken\n",
    "}"
   ]
  },
  {
   "cell_type": "markdown",
   "metadata": {},
   "source": [
    "Il seguente link contiene la lista degli endpoint disponibili <a target=\"blank_\" href=\"https://dev.twitch.tv/docs/api/reference/\">https://dev.twitch.tv/docs/api/reference/</a>.\n",
    "<br><br>\n",
    "È importante notare che alcuni endpoint richiedono parametri aggiuntivi per completare con successo la richiesta. Assicurati di includere tutti i parametri necessari quando esegui la richiesta."
   ]
  },
  {
   "cell_type": "markdown",
   "metadata": {},
   "source": [
    "### <span style=\"color:#a749eb;\" id =\"esapi\">**Esempi di informazioni che possiamo ottenere**</span>\n"
   ]
  },
  {
   "cell_type": "markdown",
   "metadata": {},
   "source": [
    "Utilizzeremo la libreria **Pandas** per ottenere una struttura dati più leggibile "
   ]
  },
  {
   "cell_type": "code",
   "execution_count": 15,
   "metadata": {},
   "outputs": [],
   "source": [
    "import pandas as pd\n",
    "from IPython.display import display"
   ]
  },
  {
   "cell_type": "code",
   "execution_count": 16,
   "metadata": {},
   "outputs": [
    {
     "name": "stdout",
     "output_type": "stream",
     "text": [
      "\n",
      "Stream in diretta:\n"
     ]
    },
    {
     "data": {
      "text/html": [
       "<div>\n",
       "<style scoped>\n",
       "    .dataframe tbody tr th:only-of-type {\n",
       "        vertical-align: middle;\n",
       "    }\n",
       "\n",
       "    .dataframe tbody tr th {\n",
       "        vertical-align: top;\n",
       "    }\n",
       "\n",
       "    .dataframe thead th {\n",
       "        text-align: right;\n",
       "    }\n",
       "</style>\n",
       "<table border=\"1\" class=\"dataframe\">\n",
       "  <thead>\n",
       "    <tr style=\"text-align: right;\">\n",
       "      <th></th>\n",
       "      <th>id</th>\n",
       "      <th>user_id</th>\n",
       "      <th>user_login</th>\n",
       "      <th>user_name</th>\n",
       "      <th>game_id</th>\n",
       "      <th>game_name</th>\n",
       "      <th>type</th>\n",
       "      <th>title</th>\n",
       "      <th>viewer_count</th>\n",
       "      <th>started_at</th>\n",
       "      <th>language</th>\n",
       "      <th>thumbnail_url</th>\n",
       "      <th>tag_ids</th>\n",
       "      <th>tags</th>\n",
       "      <th>is_mature</th>\n",
       "    </tr>\n",
       "  </thead>\n",
       "  <tbody>\n",
       "    <tr>\n",
       "      <th>0</th>\n",
       "      <td>41129977495</td>\n",
       "      <td>44525650</td>\n",
       "      <td>k4sen</td>\n",
       "      <td>k4sen</td>\n",
       "      <td>21779</td>\n",
       "      <td>League of Legends</td>\n",
       "      <td>live</td>\n",
       "      <td>CRカップ 本番Day2</td>\n",
       "      <td>44019</td>\n",
       "      <td>2024-03-10T09:33:10Z</td>\n",
       "      <td>ja</td>\n",
       "      <td>https://static-cdn.jtvnw.net/previews-ttv/live...</td>\n",
       "      <td>[]</td>\n",
       "      <td>[日本語, ネタバレNG, ネタバレ注意, リークに触れるもの皆BAN, 聞いてないアドバイ...</td>\n",
       "      <td>False</td>\n",
       "    </tr>\n",
       "  </tbody>\n",
       "</table>\n",
       "</div>"
      ],
      "text/plain": [
       "            id   user_id user_login user_name game_id          game_name  \\\n",
       "0  41129977495  44525650      k4sen     k4sen   21779  League of Legends   \n",
       "\n",
       "   type         title  viewer_count            started_at language  \\\n",
       "0  live  CRカップ 本番Day2         44019  2024-03-10T09:33:10Z       ja   \n",
       "\n",
       "                                       thumbnail_url tag_ids  \\\n",
       "0  https://static-cdn.jtvnw.net/previews-ttv/live...      []   \n",
       "\n",
       "                                                tags  is_mature  \n",
       "0  [日本語, ネタバレNG, ネタバレ注意, リークに触れるもの皆BAN, 聞いてないアドバイ...      False  "
      ]
     },
     "metadata": {},
     "output_type": "display_data"
    }
   ],
   "source": [
    "# URL dell'API di Twitch per ottenere le informazioni sugli stream in diretta\n",
    "live_streams_url = \"https://api.twitch.tv/helix/streams?first=1\"\n",
    "\n",
    "# Esempio di richiesta per ottenere le informazioni sugli stream in diretta\n",
    "response_live_streams = requests.get(live_streams_url, headers=headers).json()\n",
    "print(\"\\nStream in diretta:\")\n",
    "\n",
    "response_live_streams_df = pd.json_normalize(response_live_streams['data'])\n",
    "display(response_live_streams_df)"
   ]
  },
  {
   "cell_type": "code",
   "execution_count": 17,
   "metadata": {},
   "outputs": [
    {
     "name": "stdout",
     "output_type": "stream",
     "text": [
      "User ID: 44525650\n",
      "\n",
      "Informazioni streamer by ID:\n"
     ]
    },
    {
     "data": {
      "text/html": [
       "<div>\n",
       "<style scoped>\n",
       "    .dataframe tbody tr th:only-of-type {\n",
       "        vertical-align: middle;\n",
       "    }\n",
       "\n",
       "    .dataframe tbody tr th {\n",
       "        vertical-align: top;\n",
       "    }\n",
       "\n",
       "    .dataframe thead th {\n",
       "        text-align: right;\n",
       "    }\n",
       "</style>\n",
       "<table border=\"1\" class=\"dataframe\">\n",
       "  <thead>\n",
       "    <tr style=\"text-align: right;\">\n",
       "      <th></th>\n",
       "      <th>broadcaster_id</th>\n",
       "      <th>broadcaster_login</th>\n",
       "      <th>broadcaster_name</th>\n",
       "      <th>broadcaster_language</th>\n",
       "      <th>game_id</th>\n",
       "      <th>game_name</th>\n",
       "      <th>title</th>\n",
       "      <th>delay</th>\n",
       "      <th>tags</th>\n",
       "      <th>content_classification_labels</th>\n",
       "      <th>is_branded_content</th>\n",
       "    </tr>\n",
       "  </thead>\n",
       "  <tbody>\n",
       "    <tr>\n",
       "      <th>0</th>\n",
       "      <td>44525650</td>\n",
       "      <td>k4sen</td>\n",
       "      <td>k4sen</td>\n",
       "      <td>ja</td>\n",
       "      <td>21779</td>\n",
       "      <td>League of Legends</td>\n",
       "      <td>CRカップ 本番Day2</td>\n",
       "      <td>0</td>\n",
       "      <td>[日本語, ネタバレNG, ネタバレ注意, リークに触れるもの皆BAN, 聞いてないアドバイ...</td>\n",
       "      <td>[]</td>\n",
       "      <td>False</td>\n",
       "    </tr>\n",
       "  </tbody>\n",
       "</table>\n",
       "</div>"
      ],
      "text/plain": [
       "  broadcaster_id broadcaster_login broadcaster_name broadcaster_language  \\\n",
       "0       44525650             k4sen            k4sen                   ja   \n",
       "\n",
       "  game_id          game_name         title  delay  \\\n",
       "0   21779  League of Legends  CRカップ 本番Day2      0   \n",
       "\n",
       "                                                tags  \\\n",
       "0  [日本語, ネタバレNG, ネタバレ注意, リークに触れるもの皆BAN, 聞いてないアドバイ...   \n",
       "\n",
       "  content_classification_labels  is_branded_content  \n",
       "0                            []               False  "
      ]
     },
     "metadata": {},
     "output_type": "display_data"
    }
   ],
   "source": [
    "channel_id = response_live_streams['data'][0]['user_id'] #prendiamo l'id del utente ottenuto nella precedente chiamata\n",
    "print(\"User ID:\",channel_id)\n",
    "\n",
    "# URL dell'API di Twitch per ottenere le informazioni sugli stream in diretta\n",
    "streamer_url = \"https://api.twitch.tv/helix/channels?broadcaster_id=\" + channel_id\n",
    "\n",
    "# Esempio di richiesta per ottenere le informazioni sugli stream in diretta\n",
    "response_streamer = requests.get(streamer_url, headers=headers).json()\n",
    "print(\"\\nInformazioni streamer by ID:\")\n",
    "\n",
    "response_streamers_df = pd.json_normalize(response_streamer['data'])\n",
    "display(response_streamers_df)"
   ]
  },
  {
   "cell_type": "code",
   "execution_count": 18,
   "metadata": {},
   "outputs": [
    {
     "name": "stdout",
     "output_type": "stream",
     "text": [
      "User name: k4sen\n",
      "\n",
      "Informazioni streamer by ID:\n"
     ]
    },
    {
     "data": {
      "text/html": [
       "<div>\n",
       "<style scoped>\n",
       "    .dataframe tbody tr th:only-of-type {\n",
       "        vertical-align: middle;\n",
       "    }\n",
       "\n",
       "    .dataframe tbody tr th {\n",
       "        vertical-align: top;\n",
       "    }\n",
       "\n",
       "    .dataframe thead th {\n",
       "        text-align: right;\n",
       "    }\n",
       "</style>\n",
       "<table border=\"1\" class=\"dataframe\">\n",
       "  <thead>\n",
       "    <tr style=\"text-align: right;\">\n",
       "      <th></th>\n",
       "      <th>id</th>\n",
       "      <th>login</th>\n",
       "      <th>display_name</th>\n",
       "      <th>type</th>\n",
       "      <th>broadcaster_type</th>\n",
       "      <th>description</th>\n",
       "      <th>profile_image_url</th>\n",
       "      <th>offline_image_url</th>\n",
       "      <th>view_count</th>\n",
       "      <th>created_at</th>\n",
       "    </tr>\n",
       "  </thead>\n",
       "  <tbody>\n",
       "    <tr>\n",
       "      <th>0</th>\n",
       "      <td>44525650</td>\n",
       "      <td>k4sen</td>\n",
       "      <td>k4sen</td>\n",
       "      <td></td>\n",
       "      <td>partner</td>\n",
       "      <td></td>\n",
       "      <td>https://static-cdn.jtvnw.net/jtv_user_pictures...</td>\n",
       "      <td>https://static-cdn.jtvnw.net/jtv_user_pictures...</td>\n",
       "      <td>0</td>\n",
       "      <td>2013-06-09T04:43:03Z</td>\n",
       "    </tr>\n",
       "  </tbody>\n",
       "</table>\n",
       "</div>"
      ],
      "text/plain": [
       "         id  login display_name type broadcaster_type description  \\\n",
       "0  44525650  k4sen        k4sen               partner               \n",
       "\n",
       "                                   profile_image_url  \\\n",
       "0  https://static-cdn.jtvnw.net/jtv_user_pictures...   \n",
       "\n",
       "                                   offline_image_url  view_count  \\\n",
       "0  https://static-cdn.jtvnw.net/jtv_user_pictures...           0   \n",
       "\n",
       "             created_at  \n",
       "0  2013-06-09T04:43:03Z  "
      ]
     },
     "metadata": {},
     "output_type": "display_data"
    }
   ],
   "source": [
    "channel_name = response_live_streams['data'][0]['user_name'] #prendiamo user name del utente ottenuto nella precedente chiamata\n",
    "print(\"User name:\",channel_name)\n",
    "\n",
    "# URL dell'API di Twitch per ottenere le informazioni sugli stream in diretta\n",
    "streamer_url = \"https://api.twitch.tv/helix/users?login=\" + channel_name\n",
    "\n",
    "# Esempio di richiesta per ottenere le informazioni sugli stream in diretta\n",
    "response_streamer = requests.get(streamer_url, headers=headers).json()\n",
    "print(\"\\nInformazioni streamer by ID:\")\n",
    "\n",
    "response_streamers_df = pd.json_normalize(response_streamer['data'])\n",
    "display(response_streamers_df)"
   ]
  },
  {
   "cell_type": "code",
   "execution_count": 19,
   "metadata": {},
   "outputs": [
    {
     "name": "stdout",
     "output_type": "stream",
     "text": [
      "Clip più recenti dello streamer:\n"
     ]
    },
    {
     "data": {
      "text/html": [
       "<div>\n",
       "<style scoped>\n",
       "    .dataframe tbody tr th:only-of-type {\n",
       "        vertical-align: middle;\n",
       "    }\n",
       "\n",
       "    .dataframe tbody tr th {\n",
       "        vertical-align: top;\n",
       "    }\n",
       "\n",
       "    .dataframe thead th {\n",
       "        text-align: right;\n",
       "    }\n",
       "</style>\n",
       "<table border=\"1\" class=\"dataframe\">\n",
       "  <thead>\n",
       "    <tr style=\"text-align: right;\">\n",
       "      <th></th>\n",
       "      <th>id</th>\n",
       "      <th>url</th>\n",
       "      <th>embed_url</th>\n",
       "      <th>broadcaster_id</th>\n",
       "      <th>broadcaster_name</th>\n",
       "      <th>creator_id</th>\n",
       "      <th>creator_name</th>\n",
       "      <th>video_id</th>\n",
       "      <th>game_id</th>\n",
       "      <th>language</th>\n",
       "      <th>title</th>\n",
       "      <th>view_count</th>\n",
       "      <th>created_at</th>\n",
       "      <th>thumbnail_url</th>\n",
       "      <th>duration</th>\n",
       "      <th>vod_offset</th>\n",
       "      <th>is_featured</th>\n",
       "    </tr>\n",
       "  </thead>\n",
       "  <tbody>\n",
       "    <tr>\n",
       "      <th>0</th>\n",
       "      <td>FrigidCovertLemurMau5-1OzIbZa3n4hjYaOO</td>\n",
       "      <td>https://clips.twitch.tv/FrigidCovertLemurMau5-...</td>\n",
       "      <td>https://clips.twitch.tv/embed?clip=FrigidCover...</td>\n",
       "      <td>44525650</td>\n",
       "      <td>k4sen</td>\n",
       "      <td>601345109</td>\n",
       "      <td>goblinmove</td>\n",
       "      <td></td>\n",
       "      <td>512980</td>\n",
       "      <td>ja</td>\n",
       "      <td>CR_rionの問題発言</td>\n",
       "      <td>449355</td>\n",
       "      <td>2022-02-07T16:59:28Z</td>\n",
       "      <td>https://clips-media-assets2.twitch.tv/AT-cm%7C...</td>\n",
       "      <td>10.4</td>\n",
       "      <td>None</td>\n",
       "      <td>False</td>\n",
       "    </tr>\n",
       "  </tbody>\n",
       "</table>\n",
       "</div>"
      ],
      "text/plain": [
       "                                       id  \\\n",
       "0  FrigidCovertLemurMau5-1OzIbZa3n4hjYaOO   \n",
       "\n",
       "                                                 url  \\\n",
       "0  https://clips.twitch.tv/FrigidCovertLemurMau5-...   \n",
       "\n",
       "                                           embed_url broadcaster_id  \\\n",
       "0  https://clips.twitch.tv/embed?clip=FrigidCover...       44525650   \n",
       "\n",
       "  broadcaster_name creator_id creator_name video_id game_id language  \\\n",
       "0            k4sen  601345109   goblinmove           512980       ja   \n",
       "\n",
       "          title  view_count            created_at  \\\n",
       "0  CR_rionの問題発言      449355  2022-02-07T16:59:28Z   \n",
       "\n",
       "                                       thumbnail_url  duration vod_offset  \\\n",
       "0  https://clips-media-assets2.twitch.tv/AT-cm%7C...      10.4       None   \n",
       "\n",
       "   is_featured  \n",
       "0        False  "
      ]
     },
     "metadata": {},
     "output_type": "display_data"
    }
   ],
   "source": [
    "# URL dell'API di Twitch per ottenere le informazioni sulle clip\n",
    "clips_url = f\"https://api.twitch.tv/helix/clips?broadcaster_id={channel_id}&first=1\"\n",
    "\n",
    "# Esempio di richiesta per ottenere le informazioni sulle clip\n",
    "response_clips = requests.get(clips_url, headers=headers).json()\n",
    "\n",
    "# Stampa le informazioni sulle clip\n",
    "print(\"Clip più recenti dello streamer:\")\n",
    "\n",
    "response_clips_df = pd.json_normalize(response_clips['data'])\n",
    "display(response_clips_df)"
   ]
  },
  {
   "cell_type": "code",
   "execution_count": 29,
   "metadata": {},
   "outputs": [
    {
     "name": "stdout",
     "output_type": "stream",
     "text": [
      "\n",
      " Categorie più popolari:\n"
     ]
    },
    {
     "data": {
      "text/html": [
       "<div>\n",
       "<style scoped>\n",
       "    .dataframe tbody tr th:only-of-type {\n",
       "        vertical-align: middle;\n",
       "    }\n",
       "\n",
       "    .dataframe tbody tr th {\n",
       "        vertical-align: top;\n",
       "    }\n",
       "\n",
       "    .dataframe thead th {\n",
       "        text-align: right;\n",
       "    }\n",
       "</style>\n",
       "<table border=\"1\" class=\"dataframe\">\n",
       "  <thead>\n",
       "    <tr style=\"text-align: right;\">\n",
       "      <th></th>\n",
       "      <th>id</th>\n",
       "      <th>name</th>\n",
       "      <th>box_art_url</th>\n",
       "      <th>igdb_id</th>\n",
       "    </tr>\n",
       "  </thead>\n",
       "  <tbody>\n",
       "    <tr>\n",
       "      <th>0</th>\n",
       "      <td>21779</td>\n",
       "      <td>League of Legends</td>\n",
       "      <td>https://static-cdn.jtvnw.net/ttv-boxart/21779-...</td>\n",
       "      <td>115</td>\n",
       "    </tr>\n",
       "    <tr>\n",
       "      <th>1</th>\n",
       "      <td>509658</td>\n",
       "      <td>Just Chatting</td>\n",
       "      <td>https://static-cdn.jtvnw.net/ttv-boxart/509658...</td>\n",
       "      <td></td>\n",
       "    </tr>\n",
       "    <tr>\n",
       "      <th>2</th>\n",
       "      <td>32982</td>\n",
       "      <td>Grand Theft Auto V</td>\n",
       "      <td>https://static-cdn.jtvnw.net/ttv-boxart/32982_...</td>\n",
       "      <td>1020</td>\n",
       "    </tr>\n",
       "    <tr>\n",
       "      <th>3</th>\n",
       "      <td>516575</td>\n",
       "      <td>VALORANT</td>\n",
       "      <td>https://static-cdn.jtvnw.net/ttv-boxart/516575...</td>\n",
       "      <td>126459</td>\n",
       "    </tr>\n",
       "    <tr>\n",
       "      <th>4</th>\n",
       "      <td>33214</td>\n",
       "      <td>Fortnite</td>\n",
       "      <td>https://static-cdn.jtvnw.net/ttv-boxart/33214-...</td>\n",
       "      <td>1905</td>\n",
       "    </tr>\n",
       "  </tbody>\n",
       "</table>\n",
       "</div>"
      ],
      "text/plain": [
       "       id                name  \\\n",
       "0   21779   League of Legends   \n",
       "1  509658       Just Chatting   \n",
       "2   32982  Grand Theft Auto V   \n",
       "3  516575            VALORANT   \n",
       "4   33214            Fortnite   \n",
       "\n",
       "                                         box_art_url igdb_id  \n",
       "0  https://static-cdn.jtvnw.net/ttv-boxart/21779-...     115  \n",
       "1  https://static-cdn.jtvnw.net/ttv-boxart/509658...          \n",
       "2  https://static-cdn.jtvnw.net/ttv-boxart/32982_...    1020  \n",
       "3  https://static-cdn.jtvnw.net/ttv-boxart/516575...  126459  \n",
       "4  https://static-cdn.jtvnw.net/ttv-boxart/33214-...    1905  "
      ]
     },
     "metadata": {},
     "output_type": "display_data"
    }
   ],
   "source": [
    "# URL dell'API di Twitch per ottenere le informazioni sulle Categorie più popolari\n",
    "top_games_url = \"https://api.twitch.tv/helix/games/top?first=5\"\n",
    "\n",
    "# Esempio di richiesta per ottenere le informazioni sulle Categorie più popolari\n",
    "response_top_cat = requests.get(top_games_url, headers=headers).json()\n",
    "print(\"\\n Categorie più popolari:\")\n",
    "\n",
    "response_top_cat_df = pd.json_normalize(response_top_cat['data'])\n",
    "display(response_top_cat_df)\n"
   ]
  },
  {
   "cell_type": "markdown",
   "metadata": {},
   "source": [
    "### <span style=\"color:#a749eb;\" id =\"esapi\">**Esempio di utillizzo di API: Top 5 streamer italiani**</span>\n",
    "Stampiamo i 5 streamer italiani che hanno il numero maggiore di spettatori attualemente."
   ]
  },
  {
   "cell_type": "code",
   "execution_count": 21,
   "metadata": {},
   "outputs": [
    {
     "data": {
      "text/html": [
       "<div>\n",
       "<style scoped>\n",
       "    .dataframe tbody tr th:only-of-type {\n",
       "        vertical-align: middle;\n",
       "    }\n",
       "\n",
       "    .dataframe tbody tr th {\n",
       "        vertical-align: top;\n",
       "    }\n",
       "\n",
       "    .dataframe thead th {\n",
       "        text-align: right;\n",
       "    }\n",
       "</style>\n",
       "<table border=\"1\" class=\"dataframe\">\n",
       "  <thead>\n",
       "    <tr style=\"text-align: right;\">\n",
       "      <th></th>\n",
       "      <th>id</th>\n",
       "      <th>user_id</th>\n",
       "      <th>user_login</th>\n",
       "      <th>user_name</th>\n",
       "      <th>game_id</th>\n",
       "      <th>game_name</th>\n",
       "      <th>type</th>\n",
       "      <th>title</th>\n",
       "      <th>viewer_count</th>\n",
       "      <th>started_at</th>\n",
       "      <th>language</th>\n",
       "      <th>thumbnail_url</th>\n",
       "      <th>tag_ids</th>\n",
       "      <th>tags</th>\n",
       "      <th>is_mature</th>\n",
       "    </tr>\n",
       "  </thead>\n",
       "  <tbody>\n",
       "    <tr>\n",
       "      <th>0</th>\n",
       "      <td>42034457576</td>\n",
       "      <td>75830338</td>\n",
       "      <td>zanoxvii</td>\n",
       "      <td>ZanoXVII</td>\n",
       "      <td>143106037</td>\n",
       "      <td>EA Sports FC 24</td>\n",
       "      <td>live</td>\n",
       "      <td>🔥ZANO ORARI VIBES, GRANDE WL E PACCHI PKMN🔥 !S...</td>\n",
       "      <td>2181</td>\n",
       "      <td>2024-03-10T11:00:19Z</td>\n",
       "      <td>it</td>\n",
       "      <td>https://static-cdn.jtvnw.net/previews-ttv/live...</td>\n",
       "      <td>[]</td>\n",
       "      <td>[zano, zanoxvii, Italiano]</td>\n",
       "      <td>False</td>\n",
       "    </tr>\n",
       "    <tr>\n",
       "      <th>1</th>\n",
       "      <td>42034502312</td>\n",
       "      <td>236507843</td>\n",
       "      <td>pizfn</td>\n",
       "      <td>pizfn</td>\n",
       "      <td>33214</td>\n",
       "      <td>Fortnite</td>\n",
       "      <td>live</td>\n",
       "      <td>GRIND DOMENICALE VAMOOOS | !Gillette !Aruba !L...</td>\n",
       "      <td>2004</td>\n",
       "      <td>2024-03-10T11:05:44Z</td>\n",
       "      <td>it</td>\n",
       "      <td>https://static-cdn.jtvnw.net/previews-ttv/live...</td>\n",
       "      <td>[]</td>\n",
       "      <td>[Italiano, Fortnite, PIZ]</td>\n",
       "      <td>False</td>\n",
       "    </tr>\n",
       "    <tr>\n",
       "      <th>2</th>\n",
       "      <td>42034592728</td>\n",
       "      <td>156705811</td>\n",
       "      <td>lollolacustre</td>\n",
       "      <td>lollolacustre</td>\n",
       "      <td>509658</td>\n",
       "      <td>Just Chatting</td>\n",
       "      <td>live</td>\n",
       "      <td>EXTRA MARATONA IN CUCINA CON LOLLO !prime</td>\n",
       "      <td>1513</td>\n",
       "      <td>2024-03-10T11:17:56Z</td>\n",
       "      <td>it</td>\n",
       "      <td>https://static-cdn.jtvnw.net/previews-ttv/live...</td>\n",
       "      <td>[]</td>\n",
       "      <td>[ita, chill, gaming, ASMR, ADHDStreamer, Itali...</td>\n",
       "      <td>False</td>\n",
       "    </tr>\n",
       "    <tr>\n",
       "      <th>3</th>\n",
       "      <td>42033513160</td>\n",
       "      <td>116434237</td>\n",
       "      <td>droodthund3r</td>\n",
       "      <td>DROODTHUND3R</td>\n",
       "      <td>10609</td>\n",
       "      <td>Pokémon Emerald Version</td>\n",
       "      <td>live</td>\n",
       "      <td>🔥 KAIZO V FULL CHILL CAPO! 🔥 !phobia !gameover</td>\n",
       "      <td>650</td>\n",
       "      <td>2024-03-10T08:24:22Z</td>\n",
       "      <td>it</td>\n",
       "      <td>https://static-cdn.jtvnw.net/previews-ttv/live...</td>\n",
       "      <td>[]</td>\n",
       "      <td>[Pokemon, Hearthstone, Kaizo, Italiano, Pokèmo...</td>\n",
       "      <td>False</td>\n",
       "    </tr>\n",
       "    <tr>\n",
       "      <th>4</th>\n",
       "      <td>42025311864</td>\n",
       "      <td>96812687</td>\n",
       "      <td>rekinss</td>\n",
       "      <td>Rekinss</td>\n",
       "      <td>33214</td>\n",
       "      <td>Fortnite</td>\n",
       "      <td>live</td>\n",
       "      <td>PRIMO IN ITALIA IN RANKED❗Maratona ❗Patch ❗Tal...</td>\n",
       "      <td>641</td>\n",
       "      <td>2024-03-09T06:29:12Z</td>\n",
       "      <td>it</td>\n",
       "      <td>https://static-cdn.jtvnw.net/previews-ttv/live...</td>\n",
       "      <td>[]</td>\n",
       "      <td>[rekins, fortnite, Italiano, valorant, rekinsg...</td>\n",
       "      <td>False</td>\n",
       "    </tr>\n",
       "  </tbody>\n",
       "</table>\n",
       "</div>"
      ],
      "text/plain": [
       "            id    user_id     user_login      user_name    game_id  \\\n",
       "0  42034457576   75830338       zanoxvii       ZanoXVII  143106037   \n",
       "1  42034502312  236507843          pizfn          pizfn      33214   \n",
       "2  42034592728  156705811  lollolacustre  lollolacustre     509658   \n",
       "3  42033513160  116434237   droodthund3r   DROODTHUND3R      10609   \n",
       "4  42025311864   96812687        rekinss        Rekinss      33214   \n",
       "\n",
       "                 game_name  type  \\\n",
       "0          EA Sports FC 24  live   \n",
       "1                 Fortnite  live   \n",
       "2            Just Chatting  live   \n",
       "3  Pokémon Emerald Version  live   \n",
       "4                 Fortnite  live   \n",
       "\n",
       "                                               title  viewer_count  \\\n",
       "0  🔥ZANO ORARI VIBES, GRANDE WL E PACCHI PKMN🔥 !S...          2181   \n",
       "1  GRIND DOMENICALE VAMOOOS | !Gillette !Aruba !L...          2004   \n",
       "2          EXTRA MARATONA IN CUCINA CON LOLLO !prime          1513   \n",
       "3     🔥 KAIZO V FULL CHILL CAPO! 🔥 !phobia !gameover           650   \n",
       "4  PRIMO IN ITALIA IN RANKED❗Maratona ❗Patch ❗Tal...           641   \n",
       "\n",
       "             started_at language  \\\n",
       "0  2024-03-10T11:00:19Z       it   \n",
       "1  2024-03-10T11:05:44Z       it   \n",
       "2  2024-03-10T11:17:56Z       it   \n",
       "3  2024-03-10T08:24:22Z       it   \n",
       "4  2024-03-09T06:29:12Z       it   \n",
       "\n",
       "                                       thumbnail_url tag_ids  \\\n",
       "0  https://static-cdn.jtvnw.net/previews-ttv/live...      []   \n",
       "1  https://static-cdn.jtvnw.net/previews-ttv/live...      []   \n",
       "2  https://static-cdn.jtvnw.net/previews-ttv/live...      []   \n",
       "3  https://static-cdn.jtvnw.net/previews-ttv/live...      []   \n",
       "4  https://static-cdn.jtvnw.net/previews-ttv/live...      []   \n",
       "\n",
       "                                                tags  is_mature  \n",
       "0                         [zano, zanoxvii, Italiano]      False  \n",
       "1                          [Italiano, Fortnite, PIZ]      False  \n",
       "2  [ita, chill, gaming, ASMR, ADHDStreamer, Itali...      False  \n",
       "3  [Pokemon, Hearthstone, Kaizo, Italiano, Pokèmo...      False  \n",
       "4  [rekins, fortnite, Italiano, valorant, rekinsg...      False  "
      ]
     },
     "metadata": {},
     "output_type": "display_data"
    }
   ],
   "source": [
    "# URL dell'API di Twitch per ottenere i primi 5 streamer italiani\n",
    "url = \"https://api.twitch.tv/helix/streams?first=5&language=it&sort=desc\"\n",
    "\n",
    "# Effettua la richiesta GET\n",
    "resp = requests.get(url, headers=headers)\n",
    "\n",
    "# Verifica se la richiesta è stata eseguita con successo\n",
    "if resp.status_code == 200:\n",
    "    # Stampa i dati dei streamer più seguiti \n",
    "    top5itastreamer = pd.json_normalize(resp.json()['data'])\n",
    "    display(top5itastreamer)\n",
    "else:\n",
    "    print(\"Errore durante la richiesta:\", resp.status_code)\n"
   ]
  },
  {
   "cell_type": "markdown",
   "metadata": {},
   "source": [
    "<br>"
   ]
  },
  {
   "cell_type": "markdown",
   "metadata": {},
   "source": [
    "\n",
    "\n",
    "---\n",
    "\n"
   ]
  },
  {
   "cell_type": "markdown",
   "metadata": {},
   "source": [
    "<br>"
   ]
  },
  {
   "cell_type": "markdown",
   "metadata": {},
   "source": [
    "# <span style=\"color:#a749eb;\" id =\"analisi\">**Analisi dati**</span>"
   ]
  },
  {
   "cell_type": "markdown",
   "metadata": {},
   "source": [
    "**Primo approccio:**\n",
    "\n",
    "1. **Analizzare la settimana precedente a un determinato evento giorno per giorno:**\n",
    "    In questo passaggio, raccoglieremo dati sugli spettatori per ogni categoria di stream per ogni giorno della settimana precedente all'evento. Questo ci fornirà un'idea della distribuzione degli spettatori prima dell'evento. <br><br>\n",
    "2. **Analizzare la settimana dell'evento giorno per giorno:**\n",
    "    Qui raccoglieremo dati sugli spettatori per ogni categoria di stream per ogni giorno della settimana dell'evento. Questo ci consentirà di confrontare la distribuzione degli spettatori tra la settimana precedente e la settimana dell'evento.<br><br>\n",
    "2. **Diagramma a torta della distribuzione degli spettatori per categoria:**\n",
    "    Dopo aver raccolto i dati per entrambe le settimane, creeremo un diagramma a torta per ciascuna settimana che mostrerà la distribuzione percentuale degli spettatori per le prime 10 categorie di stream. Questo ci permetterà di confrontare visivamente la distribuzione degli spettatori tra le due settimane.<br><br>\n"
   ]
  },
  {
   "cell_type": "markdown",
   "metadata": {},
   "source": [
    "Comportamento in italia \n",
    "**Capcom Highlights: Giornata 2** lunedì 11 marzo alle ore 23:00 italiane (interesante studiare l'influenza sugli spettatori) (analisi comportamento 2 giorni) (prova funzionamento algoritmo)\n",
    "\n",
    "**Dragon's Dogma 2**\n",
    "Disponibile il 22 marzo 2024 su PC, PS5 e Xbox Series X/S.  (interesante per comprendere comportamento giocatori) (analisi comportamento per una settimana) (affiancato a studio comportamento capitolo precedente)"
   ]
  },
  {
   "cell_type": "markdown",
   "metadata": {},
   "source": [
    "## <span style=\"color:#a749eb;\" id =\"capcom\">**Capcom Highlights: Day 2**</span>"
   ]
  },
  {
   "cell_type": "markdown",
   "metadata": {},
   "source": [
    "- Data: Lunedì 11 marzo\n",
    "- Orario inizio: 23:00 italiane\n",
    "- Orario fine: 23:35 italiane \n",
    "- Obiettivo: Analizzare l'influenza sugli spettatori\n",
    "- Durata dell'analisi: 2 giorni\n",
    "\n",
    "Questo evento offre un'opportunità interessante per studiare il comportamento degli spettatori durante i Capcom Highlights, giorno 2. L'analisi si concentrerà sull'influenza dell'evento sugli spettatori e si estenderà su un periodo di due giorni. Inoltre, verrà utilizzato come prova del funzionamento dell'algoritmo di aquisizione dati."
   ]
  },
  {
   "cell_type": "markdown",
   "metadata": {},
   "source": [
    "### <span style=\"color:#a749eb;\" id =\"capcom_aquisizione\">**Aquisizione dati**</span>"
   ]
  },
  {
   "cell_type": "markdown",
   "metadata": {},
   "source": [
    "Come visto nella sezione precedente [**Guida all'uso API**](#guida-api), otteniamo il token di accesso OAuth e definiamo la variabile headers."
   ]
  },
  {
   "cell_type": "code",
   "execution_count": null,
   "metadata": {},
   "outputs": [],
   "source": [
    "import json\n",
    "import numpy as np\n",
    "import requests\n",
    "import datetime\n",
    "import time\n",
    "import pandas as pd\n",
    "from IPython.display import display\n",
    "\n",
    "client_ID = \"\" #Client ID\n",
    "secret_KEY = \"\" #Secret Key\n",
    "\n",
    "body = {\n",
    "    'client_id': client_ID,\n",
    "    'client_secret': secret_KEY,\n",
    "    \"grant_type\": 'client_credentials'\n",
    "}\n",
    "resp = requests.post('https://id.twitch.tv/oauth2/token', body)\n",
    "\n",
    "token_info = resp.json()\n",
    "print(token_info)\n",
    "\n",
    "myToken = token_info['access_token']\n",
    "\n",
    "headers = {\n",
    "    'Client-ID': client_ID,\n",
    "    'Authorization': 'Bearer ' + myToken\n",
    "}"
   ]
  },
  {
   "cell_type": "markdown",
   "metadata": {},
   "source": [
    "Definiamo l'algoritmo per l'acquisizione dei dati usando l'API di Twitch"
   ]
  },
  {
   "cell_type": "code",
   "execution_count": null,
   "metadata": {},
   "outputs": [],
   "source": [
    "import requests\n",
    "import json\n",
    "import datetime\n",
    "import time\n",
    "\n",
    "count = 0\n",
    "\n",
    "while count <= 23:\n",
    "    new_streams = requests.get('https://api.twitch.tv/helix/streams?type=live&first=100&language=it&sort=desc', headers=headers)\n",
    "    new_streams_info = new_streams.json()\n",
    "\n",
    "    new_streamdata = {\n",
    "        \"date\": datetime.datetime.now().strftime(\"%Y-%m-%d %H:%M:%S\"),\n",
    "        \"data\": new_streams_info['data']\n",
    "    }\n",
    "\n",
    "    with open(f'stream_data_2.json', 'r+', encoding=\"utf8\") as openfile:\n",
    "        streams_info = json.load(openfile)\n",
    "        streams_info['pools'].append(new_streamdata)\n",
    "        openfile.seek(0)\n",
    "        json.dump(streams_info, openfile)\n",
    "\n",
    "    print(\"Pool n\"+ str(count) +\" - [\"+ datetime.datetime.now().strftime(\"%Y-%m-%d %H:%M:%S\") +\"]\")\n",
    "    if(count != 23): time.sleep(3600)\n",
    "    count += 1\n",
    "\n",
    "print(\"Fine Giorno 1\")"
   ]
  },
  {
   "cell_type": "code",
   "execution_count": 20,
   "metadata": {},
   "outputs": [],
   "source": [
    "import requests\n",
    "import json\n",
    "import datetime\n",
    "import time\n",
    "\n",
    "\n",
    "def get_data(day,path): #versione automatizzata per n giorni \n",
    "    \n",
    "    \"\"\"\n",
    "        Aquisisce i dati JSON relativi al numero specificato di giorni e crea un file json.\n",
    "\n",
    "        Args:\n",
    "            day (int): Numero di giorni per cui si desidera ottenere dati.\n",
    "            path (str): Percorso e nome del file JSON da creare.\n",
    "\n",
    "        Returns:\n",
    "            file json\n",
    "    \"\"\"\n",
    "\n",
    "    for i in range(day):\n",
    "            \n",
    "        data = {'pools': []}\n",
    "        file_name = f'{path}{i+1}.json'\n",
    "\n",
    "        with open(file_name, 'w', encoding='utf-8') as json_file:    #creo file json strutturato\n",
    "            json.dump(data, json_file, indent=4)\n",
    "\n",
    "        print(f\"Il file '{file_name}' è stato creato e i dati sono stati scritti con successo.\")\n",
    "\n",
    "        count = 0\n",
    "\n",
    "        while count <= 23:\n",
    "            new_streams = requests.get('https://api.twitch.tv/helix/streams?type=live&first=100&language=it&sort=desc', headers=headers)\n",
    "            new_streams_info = new_streams.json()\n",
    "\n",
    "            new_streamdata = { #creo una struttura dati aggiungendo la data pool\n",
    "                \"date\": datetime.datetime.now().strftime(\"%Y-%m-%d %H:%M:%S\"),\n",
    "                \"data\": new_streams_info['data']\n",
    "            }\n",
    "\n",
    "            with open(file_name, 'r+', encoding=\"utf8\") as openfile: \n",
    "                streams_info = json.load(openfile)\n",
    "                streams_info['pools'].append(new_streamdata)\n",
    "                openfile.seek(0)\n",
    "                json.dump(streams_info, openfile)\n",
    "\n",
    "            print(\"Pool n\"+ str(count) +\" - [\"+ datetime.datetime.now().strftime(\"%Y-%m-%d %H:%M:%S\") +\"]\")\n",
    "            if(count != 23 or i != day-1): time.sleep(3600) #attendo per il prossimo pool\n",
    "            count += 1\n",
    "\n",
    "        print(\"Fine Giorno \",i+1)"
   ]
  },
  {
   "cell_type": "code",
   "execution_count": null,
   "metadata": {},
   "outputs": [],
   "source": [
    "file_name = \"stream_data_capcom_\"\n",
    "get_data(2,file_name)"
   ]
  },
  {
   "cell_type": "markdown",
   "metadata": {},
   "source": [
    "Definiamo una funzione che ci permette di osservere i dati ottenuti "
   ]
  },
  {
   "cell_type": "code",
   "execution_count": 5,
   "metadata": {},
   "outputs": [],
   "source": [
    "import json\n",
    "import pandas as pd\n",
    "\n",
    "\n",
    "def get_df(path):\n",
    "    \n",
    "    \"\"\"\n",
    "        Carica un file JSON dal percorso specificato e restituisce un DataFrame di Pandas.\n",
    "\n",
    "        Args:\n",
    "            path (str): Percorso del file JSON.\n",
    "\n",
    "        Returns:\n",
    "            pandas.DataFrame: DataFrame contenente i dati dal file JSON.\n",
    "    \"\"\"\n",
    "   \n",
    "    with open(path, 'r') as file:\n",
    "        data = json.load(file)\n",
    "    records = []\n",
    "\n",
    "    for pool in data['pools']:\n",
    "        date = pool['date']\n",
    "        \n",
    "        for item in pool['data']:\n",
    "            record = {'date': date}\n",
    "\n",
    "            for key, value in item.items():\n",
    "                record[key] = value\n",
    "            records.append(record)\n",
    "\n",
    "    df = pd.DataFrame(records)\n",
    "\n",
    "    return df"
   ]
  },
  {
   "cell_type": "markdown",
   "metadata": {},
   "source": [
    "Il file ottenuto dall'aquisizione dati ha le seguenti informazioni:\n",
    "\n",
    "- 'date': Orario di esecuzione del pool.\n",
    "- 'id': Identificatore univoco.\n",
    "- 'user_id': ID dell'utente.\n",
    "- 'user_login': Nome utente di accesso dell'utente.\n",
    "- 'user_name': Nome utente dell'utente.\n",
    "- 'game_id': ID del gioco.\n",
    "- 'game_name': Nome del gioco.\n",
    "- 'type': Tipo di stream (ad esempio, \"live\").\n",
    "- 'title': Titolo dello stream.\n",
    "- 'viewer_count': Numero di spettatori.\n",
    "- 'started_at': Orario di inizio dello stream.\n",
    "- 'language': Lingua dello stream.\n",
    "- 'thumbnail_url': URL dell'immagine in anteprima dello stream.\n",
    "- 'tag_ids': ID dei tag associati allo stream.\n",
    "- 'tags': Tag associati allo stream.\n",
    "- 'is_mature': Indica se il contenuto è per un pubblico maturo.\n",
    "        "
   ]
  },
  {
   "cell_type": "code",
   "execution_count": 6,
   "metadata": {},
   "outputs": [
    {
     "data": {
      "text/html": [
       "<div>\n",
       "<style scoped>\n",
       "    .dataframe tbody tr th:only-of-type {\n",
       "        vertical-align: middle;\n",
       "    }\n",
       "\n",
       "    .dataframe tbody tr th {\n",
       "        vertical-align: top;\n",
       "    }\n",
       "\n",
       "    .dataframe thead th {\n",
       "        text-align: right;\n",
       "    }\n",
       "</style>\n",
       "<table border=\"1\" class=\"dataframe\">\n",
       "  <thead>\n",
       "    <tr style=\"text-align: right;\">\n",
       "      <th></th>\n",
       "      <th>date</th>\n",
       "      <th>id</th>\n",
       "      <th>user_id</th>\n",
       "      <th>user_login</th>\n",
       "      <th>user_name</th>\n",
       "      <th>game_id</th>\n",
       "      <th>game_name</th>\n",
       "      <th>type</th>\n",
       "      <th>title</th>\n",
       "      <th>viewer_count</th>\n",
       "      <th>started_at</th>\n",
       "      <th>language</th>\n",
       "      <th>thumbnail_url</th>\n",
       "      <th>tag_ids</th>\n",
       "      <th>tags</th>\n",
       "      <th>is_mature</th>\n",
       "    </tr>\n",
       "  </thead>\n",
       "  <tbody>\n",
       "    <tr>\n",
       "      <th>0</th>\n",
       "      <td>2024-03-11 00:00:00</td>\n",
       "      <td>42395142345</td>\n",
       "      <td>568747744</td>\n",
       "      <td>grenbaud</td>\n",
       "      <td>GrenBaud</td>\n",
       "      <td>509658</td>\n",
       "      <td>Just Chatting</td>\n",
       "      <td>live</td>\n",
       "      <td>OH NO, ENTRA ORA CHE OGGI GIORNATA TRAGICA *ci...</td>\n",
       "      <td>8418</td>\n",
       "      <td>2024-03-10T20:58:07Z</td>\n",
       "      <td>it</td>\n",
       "      <td>https://static-cdn.jtvnw.net/previews-ttv/live...</td>\n",
       "      <td>[]</td>\n",
       "      <td>[Cabaret, Improvvisazione, Italiano]</td>\n",
       "      <td>True</td>\n",
       "    </tr>\n",
       "    <tr>\n",
       "      <th>1</th>\n",
       "      <td>2024-03-11 00:00:00</td>\n",
       "      <td>42038026328</td>\n",
       "      <td>89600394</td>\n",
       "      <td>therealmarzaa</td>\n",
       "      <td>TheRealMarzaa</td>\n",
       "      <td>33214</td>\n",
       "      <td>Fortnite</td>\n",
       "      <td>live</td>\n",
       "      <td>ROAD TO UNREAL DAY 3 - !BREUNOR !MARZATV !DISC...</td>\n",
       "      <td>8164</td>\n",
       "      <td>2024-03-10T21:10:09Z</td>\n",
       "      <td>it</td>\n",
       "      <td>https://static-cdn.jtvnw.net/previews-ttv/live...</td>\n",
       "      <td>[]</td>\n",
       "      <td>[Italiano, English, Barese]</td>\n",
       "      <td>False</td>\n",
       "    </tr>\n",
       "    <tr>\n",
       "      <th>2</th>\n",
       "      <td>2024-03-11 00:00:00</td>\n",
       "      <td>42394889017</td>\n",
       "      <td>53065331</td>\n",
       "      <td>dariomocciatwitch</td>\n",
       "      <td>DarioMocciaTwitch</td>\n",
       "      <td>486102336</td>\n",
       "      <td>Dragon Quest XI S: Echoes of an Elusive Age - ...</td>\n",
       "      <td>live</td>\n",
       "      <td>Dragon Quest XI S - Modalità estrema: mostri f...</td>\n",
       "      <td>5932</td>\n",
       "      <td>2024-03-10T20:02:22Z</td>\n",
       "      <td>it</td>\n",
       "      <td>https://static-cdn.jtvnw.net/previews-ttv/live...</td>\n",
       "      <td>[]</td>\n",
       "      <td>[Italiano]</td>\n",
       "      <td>False</td>\n",
       "    </tr>\n",
       "    <tr>\n",
       "      <th>3</th>\n",
       "      <td>2024-03-11 00:00:00</td>\n",
       "      <td>42038297496</td>\n",
       "      <td>462386663</td>\n",
       "      <td>ocwsport</td>\n",
       "      <td>ocwsport</td>\n",
       "      <td>509658</td>\n",
       "      <td>Just Chatting</td>\n",
       "      <td>live</td>\n",
       "      <td>SCANDALO A FIRENZE: LA ROMA RUBA E PAREGGIA! P...</td>\n",
       "      <td>3992</td>\n",
       "      <td>2024-03-10T21:55:31Z</td>\n",
       "      <td>it</td>\n",
       "      <td>https://static-cdn.jtvnw.net/previews-ttv/live...</td>\n",
       "      <td>[]</td>\n",
       "      <td>[Italiano, Improvvisazione, Calcio, Cabaret, S...</td>\n",
       "      <td>False</td>\n",
       "    </tr>\n",
       "    <tr>\n",
       "      <th>4</th>\n",
       "      <td>2024-03-11 00:00:00</td>\n",
       "      <td>42395076985</td>\n",
       "      <td>97552124</td>\n",
       "      <td>freneh</td>\n",
       "      <td>Freneh</td>\n",
       "      <td>856465807</td>\n",
       "      <td>A Difficult Game About Climbing</td>\n",
       "      <td>live</td>\n",
       "      <td>[ARRABBIATO] ANCHE OGGI SI CONTINUA GETTING OV...</td>\n",
       "      <td>3526</td>\n",
       "      <td>2024-03-10T20:37:03Z</td>\n",
       "      <td>it</td>\n",
       "      <td>https://static-cdn.jtvnw.net/previews-ttv/live...</td>\n",
       "      <td>[]</td>\n",
       "      <td>[Italiano, FRENE, BIFOLCO, BANANA, NORAGE, NOT...</td>\n",
       "      <td>False</td>\n",
       "    </tr>\n",
       "  </tbody>\n",
       "</table>\n",
       "</div>"
      ],
      "text/plain": [
       "                  date           id    user_id         user_login  \\\n",
       "0  2024-03-11 00:00:00  42395142345  568747744           grenbaud   \n",
       "1  2024-03-11 00:00:00  42038026328   89600394      therealmarzaa   \n",
       "2  2024-03-11 00:00:00  42394889017   53065331  dariomocciatwitch   \n",
       "3  2024-03-11 00:00:00  42038297496  462386663           ocwsport   \n",
       "4  2024-03-11 00:00:00  42395076985   97552124             freneh   \n",
       "\n",
       "           user_name    game_id  \\\n",
       "0           GrenBaud     509658   \n",
       "1      TheRealMarzaa      33214   \n",
       "2  DarioMocciaTwitch  486102336   \n",
       "3           ocwsport     509658   \n",
       "4             Freneh  856465807   \n",
       "\n",
       "                                           game_name  type  \\\n",
       "0                                      Just Chatting  live   \n",
       "1                                           Fortnite  live   \n",
       "2  Dragon Quest XI S: Echoes of an Elusive Age - ...  live   \n",
       "3                                      Just Chatting  live   \n",
       "4                    A Difficult Game About Climbing  live   \n",
       "\n",
       "                                               title  viewer_count  \\\n",
       "0  OH NO, ENTRA ORA CHE OGGI GIORNATA TRAGICA *ci...          8418   \n",
       "1  ROAD TO UNREAL DAY 3 - !BREUNOR !MARZATV !DISC...          8164   \n",
       "2  Dragon Quest XI S - Modalità estrema: mostri f...          5932   \n",
       "3  SCANDALO A FIRENZE: LA ROMA RUBA E PAREGGIA! P...          3992   \n",
       "4  [ARRABBIATO] ANCHE OGGI SI CONTINUA GETTING OV...          3526   \n",
       "\n",
       "             started_at language  \\\n",
       "0  2024-03-10T20:58:07Z       it   \n",
       "1  2024-03-10T21:10:09Z       it   \n",
       "2  2024-03-10T20:02:22Z       it   \n",
       "3  2024-03-10T21:55:31Z       it   \n",
       "4  2024-03-10T20:37:03Z       it   \n",
       "\n",
       "                                       thumbnail_url tag_ids  \\\n",
       "0  https://static-cdn.jtvnw.net/previews-ttv/live...      []   \n",
       "1  https://static-cdn.jtvnw.net/previews-ttv/live...      []   \n",
       "2  https://static-cdn.jtvnw.net/previews-ttv/live...      []   \n",
       "3  https://static-cdn.jtvnw.net/previews-ttv/live...      []   \n",
       "4  https://static-cdn.jtvnw.net/previews-ttv/live...      []   \n",
       "\n",
       "                                                tags  is_mature  \n",
       "0               [Cabaret, Improvvisazione, Italiano]       True  \n",
       "1                        [Italiano, English, Barese]      False  \n",
       "2                                         [Italiano]      False  \n",
       "3  [Italiano, Improvvisazione, Calcio, Cabaret, S...      False  \n",
       "4  [Italiano, FRENE, BIFOLCO, BANANA, NORAGE, NOT...      False  "
      ]
     },
     "metadata": {},
     "output_type": "display_data"
    }
   ],
   "source": [
    "path = \"data_capcom/stream_data_capcom_1.json\"\n",
    "display(get_df(path).head())"
   ]
  },
  {
   "cell_type": "markdown",
   "metadata": {},
   "source": [
    "### <span style=\"color:#a749eb;\" id =\"preprocessing_capcom\">**Preprocessing dei dati**</span>"
   ]
  },
  {
   "cell_type": "markdown",
   "metadata": {},
   "source": [
    "Alcune informazioni nel file JSON non sono rilevanti per l'analisi dei dati che stiamo per condurre. Pertanto, intendiamo ridurre il numero di attributi nel nostro DataFrame di Pandas.\n"
   ]
  },
  {
   "cell_type": "code",
   "execution_count": 7,
   "metadata": {},
   "outputs": [],
   "source": [
    "def preprocessing(df):\n",
    "\n",
    "    \"\"\"\n",
    "    Riduce la quantità di feature nel DataFrame e converte data in formato datetime, mantenendo solo le informazioni rilevanti per l'analisi.\n",
    "\n",
    "    Args:\n",
    "        df (pandas.DataFrame): Il DataFrame contenente i dati da ridurre.\n",
    "\n",
    "    Returns:\n",
    "        pandas.DataFrame: Il DataFrame ridotto con le feature selezionate.\n",
    "    \"\"\"\n",
    "\n",
    "    # Lista delle feature \n",
    "    feature_selezionate = ['date', 'user_login', 'game_name', 'viewer_count', 'started_at' , 'tags']\n",
    "\n",
    "    new_df = df[feature_selezionate].copy()\n",
    "    new_df['date'] = pd.to_datetime(new_df['date'])\n",
    "\n",
    "    return new_df"
   ]
  },
  {
   "cell_type": "code",
   "execution_count": 8,
   "metadata": {},
   "outputs": [
    {
     "data": {
      "text/html": [
       "<div>\n",
       "<style scoped>\n",
       "    .dataframe tbody tr th:only-of-type {\n",
       "        vertical-align: middle;\n",
       "    }\n",
       "\n",
       "    .dataframe tbody tr th {\n",
       "        vertical-align: top;\n",
       "    }\n",
       "\n",
       "    .dataframe thead th {\n",
       "        text-align: right;\n",
       "    }\n",
       "</style>\n",
       "<table border=\"1\" class=\"dataframe\">\n",
       "  <thead>\n",
       "    <tr style=\"text-align: right;\">\n",
       "      <th></th>\n",
       "      <th>date</th>\n",
       "      <th>user_login</th>\n",
       "      <th>game_name</th>\n",
       "      <th>viewer_count</th>\n",
       "      <th>started_at</th>\n",
       "      <th>tags</th>\n",
       "    </tr>\n",
       "  </thead>\n",
       "  <tbody>\n",
       "    <tr>\n",
       "      <th>1412</th>\n",
       "      <td>2024-03-11 14:00:13</td>\n",
       "      <td>sadaz_lol</td>\n",
       "      <td>League of Legends</td>\n",
       "      <td>112</td>\n",
       "      <td>2024-03-11T08:00:04Z</td>\n",
       "      <td>[procione, ornitorinco, opossum, caracal, orse...</td>\n",
       "    </tr>\n",
       "    <tr>\n",
       "      <th>1564</th>\n",
       "      <td>2024-03-11 16:00:15</td>\n",
       "      <td>pizfn</td>\n",
       "      <td>Fortnite</td>\n",
       "      <td>1995</td>\n",
       "      <td>2024-03-11T13:03:32Z</td>\n",
       "      <td>[Italiano, Fortnite, PIZ]</td>\n",
       "    </tr>\n",
       "    <tr>\n",
       "      <th>1210</th>\n",
       "      <td>2024-03-11 12:00:11</td>\n",
       "      <td>drwhi7es</td>\n",
       "      <td>EA Sports FC 24</td>\n",
       "      <td>109</td>\n",
       "      <td>2024-03-11T09:48:29Z</td>\n",
       "      <td>[weekendLeague, divisionrivals, Italiano, tots...</td>\n",
       "    </tr>\n",
       "    <tr>\n",
       "      <th>331</th>\n",
       "      <td>2024-03-11 03:00:03</td>\n",
       "      <td>rekinss</td>\n",
       "      <td>Fortnite</td>\n",
       "      <td>87</td>\n",
       "      <td>2024-03-10T23:12:15Z</td>\n",
       "      <td>[rekins, fortnite, Italiano, valorant, rekinsg...</td>\n",
       "    </tr>\n",
       "    <tr>\n",
       "      <th>435</th>\n",
       "      <td>2024-03-11 04:00:04</td>\n",
       "      <td>xanidom</td>\n",
       "      <td>Italia 1990</td>\n",
       "      <td>22</td>\n",
       "      <td>2024-03-11T02:38:17Z</td>\n",
       "      <td>[Italiano, italia1990, ita, relax, cartoni, fi...</td>\n",
       "    </tr>\n",
       "  </tbody>\n",
       "</table>\n",
       "</div>"
      ],
      "text/plain": [
       "                    date user_login          game_name  viewer_count  \\\n",
       "1412 2024-03-11 14:00:13  sadaz_lol  League of Legends           112   \n",
       "1564 2024-03-11 16:00:15      pizfn           Fortnite          1995   \n",
       "1210 2024-03-11 12:00:11   drwhi7es    EA Sports FC 24           109   \n",
       "331  2024-03-11 03:00:03    rekinss           Fortnite            87   \n",
       "435  2024-03-11 04:00:04    xanidom        Italia 1990            22   \n",
       "\n",
       "                started_at                                               tags  \n",
       "1412  2024-03-11T08:00:04Z  [procione, ornitorinco, opossum, caracal, orse...  \n",
       "1564  2024-03-11T13:03:32Z                          [Italiano, Fortnite, PIZ]  \n",
       "1210  2024-03-11T09:48:29Z  [weekendLeague, divisionrivals, Italiano, tots...  \n",
       "331   2024-03-10T23:12:15Z  [rekins, fortnite, Italiano, valorant, rekinsg...  \n",
       "435   2024-03-11T02:38:17Z  [Italiano, italia1990, ita, relax, cartoni, fi...  "
      ]
     },
     "execution_count": 8,
     "metadata": {},
     "output_type": "execute_result"
    }
   ],
   "source": [
    "path_1 = \"data_capcom/stream_data_capcom_1.json\"\n",
    "path_2 = \"data_capcom/stream_data_capcom_2.json\"\n",
    "df_g1 = preprocessing(get_df(path_1))\n",
    "df_g2 = preprocessing(get_df(path_2))\n",
    "df_g1.sample(5)"
   ]
  },
  {
   "cell_type": "markdown",
   "metadata": {},
   "source": [
    "Durante un periodo di due giorni, ho effettuato una raccolta dati tramite le API di Twitch al fine di analizzare l'attività delle streams, concentrandomi in particolare sull'evento Capcom che si è svolto durante uno dei due giorni. Lo scopo dell'analisi era comprendere i picchi di attività durante l'evento Capcom e valutare se vi fossero altre tendenze significative durante la giornata."
   ]
  },
  {
   "cell_type": "code",
   "execution_count": 9,
   "metadata": {},
   "outputs": [],
   "source": [
    "import numpy as np\n",
    "\n",
    "def spect_ora(x,df):\n",
    "    return df[df['date'].dt.hour == x]['viewer_count'].sum()"
   ]
  },
  {
   "cell_type": "code",
   "execution_count": 10,
   "metadata": {},
   "outputs": [
    {
     "data": {
      "image/png": "[encoded data removed]",
      "text/plain": [
       "<Figure size 1000x800 with 2 Axes>"
      ]
     },
     "metadata": {},
     "output_type": "display_data"
    }
   ],
   "source": [
    "import numpy as np\n",
    "import matplotlib.pyplot as plt\n",
    "\n",
    "Y1 = []\n",
    "Y2 = []\n",
    "\n",
    "for x in range(24):\n",
    "    Y1.append(spect_ora(x, df_g1))\n",
    "    Y2.append(spect_ora(x, df_g2))\n",
    "\n",
    "fig, axs = plt.subplots(2, figsize=(10, 8))\n",
    "\n",
    "# Primo grafico: Spettro delle visualizzazioni per le ore desiderate\n",
    "axs[0].plot(range(24), Y1, marker='o', linestyle='-', label='Day 1')\n",
    "axs[0].plot(range(24), Y2, marker='o', linestyle='-', label='Day 2')\n",
    "axs[0].set_title('Spettro delle visualizzazioni')\n",
    "axs[0].set_xlabel('Ora del giorno')\n",
    "axs[0].set_ylabel('Visualizzazioni totali')\n",
    "axs[0].set_xticks(range(24))  \n",
    "axs[0].set_xticklabels(range(24))\n",
    "axs[0].legend()  \n",
    "axs[0].grid(True)\n",
    "\n",
    "# Secondo grafico: Istogramma per le ore desiderate\n",
    "axs[1].bar(range(24), Y1, label='Day 1')\n",
    "axs[1].bar(range(24), Y2, label='Day 2')\n",
    "axs[1].set_title('Istogramma delle visualizzazioni')\n",
    "axs[1].set_xlabel('Ora del giorno')\n",
    "axs[1].set_ylabel('Visualizzazioni totali')\n",
    "axs[1].set_xticks(range(24))  \n",
    "axs[1].set_xticklabels(range(24))\n",
    "axs[1].legend()  \n",
    "axs[1].grid(True)\n",
    "\n",
    "plt.tight_layout()\n",
    "plt.show()\n"
   ]
  },
  {
   "cell_type": "markdown",
   "metadata": {},
   "source": [
    "Analizziamo come la differenza di spettatori si è modificata nel corso dell'evento, focalizzandoci specificamente sulle ore 23:00 e sugli intervalli di tempo adiacenti, al fine di determinare se tale differenza è aumentata o diminuita durante quegli orari."
   ]
  },
  {
   "cell_type": "code",
   "execution_count": 38,
   "metadata": {},
   "outputs": [
    {
     "name": "stdout",
     "output_type": "stream",
     "text": [
      "Valori positivi indicano un incremento di visualizzazioni nella prima giornata\n"
     ]
    },
    {
     "data": {
      "image/png": "[encoded data removed]",
      "text/plain": [
       "<Figure size 640x480 with 1 Axes>"
      ]
     },
     "metadata": {},
     "output_type": "display_data"
    }
   ],
   "source": [
    "import numpy as np\n",
    "import matplotlib.pyplot as plt\n",
    "from matplotlib.patches import Patch\n",
    "\n",
    "\n",
    "# Supponiamo di avere due serie di dati Y1 e Y2 per le due fasce orarie\n",
    "\n",
    "Y1 = []\n",
    "Y2 = []\n",
    "\n",
    "X = [22, 23, 0, 1, 2]\n",
    "\n",
    "for ora in range(24):\n",
    "    Y1.append(spect_ora(ora, df_g1))\n",
    "    Y2.append(spect_ora(ora, df_g2))\n",
    "\n",
    "# Calcolo della differenza di spettatori tra le due fasce orarie\n",
    "differenza_spettatori = [(y1 - y2) for y1, y2 in zip(Y1, Y2)]\n",
    "\n",
    "print('Valori positivi indicano un incremento di visualizzazioni nella prima giornata')\n",
    "colori = ['blue' if ora not in X else 'red' for ora in range(24)]\n",
    "\n",
    "# Plot della differenza di spettatori con un grafico a barre\n",
    "plt.bar(range(24), differenza_spettatori, color=colori, label= 'Differenza spettatori')\n",
    "plt.title('Differenza di spettatori tra le fasce orarie')\n",
    "plt.xlabel('Ora del giorno')\n",
    "plt.ylabel('Differenza di spettatori')\n",
    "plt.xticks(range(24))  \n",
    "plt.grid(True)\n",
    "\n",
    "legend_elements = [Patch(facecolor='blue', label='Fascia oraria resto della gionata'),\n",
    "                   Patch(facecolor='red', label='Fascia oraria di interesse')]\n",
    "\n",
    "plt.legend(handles=legend_elements, loc='upper left', bbox_to_anchor=(1, 1))\n",
    "plt.show()\n",
    "\n"
   ]
  },
  {
   "cell_type": "markdown",
   "metadata": {},
   "source": [
    "Durante l'analisi dei dati raccolti, è emerso un pattern interessante nella differenza del numero di spettatori tra le due giornate, in particolare durante l'evento Capcom. Il grafico mostra chiaramente un picco significativo nella differenza del numero di spettatori alle 23:00, che coincide con l'orario dell'evento. Durante questo momento, la differenza raggiunge un massimo di 12.000 spettatori in più rispetto all'altra giornata, evidenziando un forte aumento dell'attività durante l'evento.\n",
    "\n",
    "È interessante notare che questa differenza comincia a diminuire subito dopo l'orario di fine evento, indicando una diminuzione dell'attività dopo la conclusione dell'evento. \n",
    "Il picco massimo della seconda giornata, che è di circa 10.000 spettatori, è inferiore al picco massimo della differenza durante l'evento Capcom. Tuttavia, entrambi i picchi sono significativamente più alti del picco massimo della prima giornata, che è stato di 7.000 spettatori.\n",
    "\n",
    "Questo suggerisce che, mentre l'evento Capcom ha generato il picco più alto di attività durante il periodo analizzato, ci sono stati comunque altri momenti di forte interesse durante la seconda giornata, sebbene con un'intensità \"leggermente\" inferiore rispetto all'evento principale.\n",
    "\n",
    "Questa osservazione può fornire ulteriori spunti per comprendere meglio i pattern di comportamento degli spettatori e l'effetto degli eventi sulle attività delle streams Twitch."
   ]
  },
  {
   "cell_type": "markdown",
   "metadata": {},
   "source": [
    "## <span style=\"color:#a749eb;\" id =\"dd\">**Dragon's dogma**</span>"
   ]
  },
  {
   "cell_type": "code",
   "execution_count": 54,
   "metadata": {},
   "outputs": [
    {
     "name": "stdout",
     "output_type": "stream",
     "text": [
      "{'access_token': 'ygycg8b52abwqp45k84tnw8w87pxos', 'expires_in': 5617853, 'token_type': 'bearer'}\n"
     ]
    }
   ],
   "source": [
    "import json\n",
    "import numpy as np\n",
    "import requests\n",
    "import datetime\n",
    "import time\n",
    "import pandas as pd\n",
    "from IPython.display import display\n",
    "\n",
    "client_ID = \"cgfqdphh3gt4sxmdvxn341itb102x4\" #Client ID\n",
    "secret_KEY = \"ojeefn1at0fyhdm4km8ee62ty0l7x3\" #Secret Key\n",
    "\n",
    "body = {\n",
    "    'client_id': client_ID,\n",
    "    'client_secret': secret_KEY,\n",
    "    \"grant_type\": 'client_credentials'\n",
    "}\n",
    "resp = requests.post('https://id.twitch.tv/oauth2/token', body)\n",
    "\n",
    "token_info = resp.json()\n",
    "print(token_info)\n",
    "\n",
    "myToken = token_info['access_token']\n",
    "\n",
    "headers = {\n",
    "    'Client-ID': client_ID,\n",
    "    'Authorization': 'Bearer ' + myToken\n",
    "}"
   ]
  },
  {
   "cell_type": "code",
   "execution_count": 55,
   "metadata": {},
   "outputs": [
    {
     "name": "stdout",
     "output_type": "stream",
     "text": [
      "{'data': [{'id': '435870350', 'name': \"Dragon's Dogma II\", 'box_art_url': 'https://static-cdn.jtvnw.net/ttv-boxart/435870350_IGDB-{width}x{height}.jpg', 'igdb_id': '115060'}]}\n",
      "{'data': [{'id': '110748', 'name': \"Dragon's Dogma: Dark Arisen\", 'box_art_url': 'https://static-cdn.jtvnw.net/ttv-boxart/110748_IGDB-{width}x{height}.jpg', 'igdb_id': '16300'}]}\n"
     ]
    }
   ],
   "source": [
    "import requests\n",
    "\n",
    "# Nomi dei giochi da cercare\n",
    "game_name = \"Dragon's Dogma II\"\n",
    "game_name_1 = \"Dragon's Dogma: Dark Arisen\"\n",
    "\n",
    "url = f\"https://api.twitch.tv/helix/games?name={game_name}\"\n",
    "url_1 = f\"https://api.twitch.tv/helix/games?name={game_name_1}\"\n",
    "\n",
    "# Effettua la richiesta GET per ottenere gli ID dei giochi\n",
    "response = requests.get(url, headers=headers)\n",
    "response_1 = requests.get(url_1, headers=headers)\n",
    "\n",
    "data = response.json()\n",
    "data_1 = response_1.json()\n",
    "\n",
    "print(data)\n",
    "print(data_1)"
   ]
  },
  {
   "cell_type": "code",
   "execution_count": 56,
   "metadata": {},
   "outputs": [],
   "source": [
    "game_name = \"Dragon's Dogma II\"\n",
    "game_name_1 = \"Dragon's Dogma: Dark Arisen\"\n",
    "\n",
    "game_id = 435870350\n",
    "game_id_1 = 110748"
   ]
  },
  {
   "cell_type": "code",
   "execution_count": 57,
   "metadata": {},
   "outputs": [],
   "source": [
    "import json\n",
    "\n",
    "def init_json_file(path):\n",
    "\n",
    "    data = {'pools': []}\n",
    "\n",
    "    with open(path, 'w', encoding='utf-8') as json_file:    #creo file json strutturato\n",
    "        json.dump(data, json_file, indent=4)\n",
    "\n",
    "    print(f\"Il file '{path}' è stato creato e i dati sono stati scritti con successo.\")\n"
   ]
  },
  {
   "cell_type": "code",
   "execution_count": 58,
   "metadata": {},
   "outputs": [],
   "source": [
    "import json\n",
    "import requests\n",
    "\n",
    "def get_stream_data(game_id):\n",
    "\n",
    "    url = f\"https://api.twitch.tv/helix/streams?game_id={game_id}&first=100\"\n",
    "    new_streams = requests.get(url, headers=headers)\n",
    "    new_streams_info = new_streams.json()\n",
    "\n",
    "    return {\n",
    "            \"date\": datetime.datetime.now().strftime(\"%Y-%m-%d %H:%M:%S\"),\n",
    "            \"data\": new_streams_info['data']\n",
    "           }"
   ]
  },
  {
   "cell_type": "code",
   "execution_count": 59,
   "metadata": {},
   "outputs": [],
   "source": [
    "import json\n",
    "\n",
    "def write_new_data_f(file_name, new_streamdata):\n",
    "\n",
    "    with open(file_name, 'r+', encoding=\"utf8\") as openfile:\n",
    "        streams_info = json.load(openfile)\n",
    "        streams_info['pools'].append(new_streamdata)\n",
    "        openfile.seek(0)\n",
    "        json.dump(streams_info, openfile)\n"
   ]
  },
  {
   "cell_type": "code",
   "execution_count": 60,
   "metadata": {},
   "outputs": [],
   "source": [
    "import requests\n",
    "import json\n",
    "import datetime\n",
    "import time\n",
    "\n",
    "def save_data_byGameID(game_id_1, game_id_2, day, week):\n",
    "\n",
    "    path1 = f\"data_dd/s{week}/streams_data_dd1_day{day}.json\"\n",
    "    path2 = f\"data_dd/s{week}/streams_data_dd2_day{day}.json\"\n",
    "\n",
    "    init_json_file(path1)\n",
    "    init_json_file(path2)\n",
    "    \n",
    "    count = 0\n",
    "\n",
    "    while count <= 23:\n",
    "\n",
    "        if(count != 0): time.sleep(3600)\n",
    "\n",
    "        new_streamdata_1 = get_stream_data(game_id_1)\n",
    "        new_streamdata_2 = get_stream_data(game_id_2)\n",
    "\n",
    "        write_new_data_f(path1,new_streamdata_1)\n",
    "        write_new_data_f(path2,new_streamdata_2)\n",
    "       \n",
    "        print(f\"[Pool-{count}] - [\"+ datetime.datetime.now().strftime(\"%Y-%m-%d %H:%M:%S\") +\"]\")\n",
    "        count += 1\n",
    "\n",
    "    print(f\"Fine Giorno {day}\")"
   ]
  },
  {
   "cell_type": "code",
   "execution_count": 61,
   "metadata": {},
   "outputs": [
    {
     "name": "stdout",
     "output_type": "stream",
     "text": [
      "Il file 'data_dd/s2/streams_data_dd1_day5.json' è stato creato e i dati sono stati scritti con successo.\n",
      "Il file 'data_dd/s2/streams_data_dd2_day5.json' è stato creato e i dati sono stati scritti con successo.\n"
     ]
    },
    {
     "name": "stdout",
     "output_type": "stream",
     "text": [
      "[Pool-0] - [2024-03-26 00:00:03]\n",
      "[Pool-1] - [2024-03-26 01:00:05]\n",
      "[Pool-2] - [2024-03-26 02:00:06]\n",
      "[Pool-3] - [2024-03-26 03:00:07]\n",
      "[Pool-4] - [2024-03-26 04:00:09]\n",
      "[Pool-5] - [2024-03-26 05:00:10]\n",
      "[Pool-6] - [2024-03-26 06:00:08]\n",
      "[Pool-7] - [2024-03-26 07:00:09]\n",
      "[Pool-8] - [2024-03-26 08:00:11]\n",
      "[Pool-9] - [2024-03-26 09:00:12]\n",
      "[Pool-10] - [2024-03-26 10:00:13]\n",
      "[Pool-11] - [2024-03-26 11:00:15]\n",
      "[Pool-12] - [2024-03-26 12:00:16]\n",
      "[Pool-13] - [2024-03-26 13:00:18]\n",
      "[Pool-14] - [2024-03-26 14:00:19]\n",
      "[Pool-15] - [2024-03-26 15:00:21]\n",
      "[Pool-16] - [2024-03-26 16:00:22]\n",
      "[Pool-17] - [2024-03-26 17:00:24]\n",
      "[Pool-18] - [2024-03-26 18:00:25]\n",
      "[Pool-19] - [2024-03-26 19:00:27]\n",
      "[Pool-20] - [2024-03-26 20:00:28]\n",
      "[Pool-21] - [2024-03-26 21:00:30]\n",
      "[Pool-22] - [2024-03-26 22:00:31]\n",
      "[Pool-23] - [2024-03-26 23:00:33]\n",
      "Fine Giorno 5\n"
     ]
    }
   ],
   "source": [
    "day = 5\n",
    "week = 2\n",
    "save_data_byGameID(game_id_1 , game_id, day, week)"
   ]
  },
  {
   "cell_type": "code",
   "execution_count": null,
   "metadata": {},
   "outputs": [],
   "source": [
    "for day in range(5): #versione automatizzata \n",
    "    save_data_byGameID(game_id_1 , game_id, day+1)\n",
    "    time.sleep(3600)"
   ]
  },
  {
   "cell_type": "code",
   "execution_count": 65,
   "metadata": {},
   "outputs": [],
   "source": [
    "import json\n",
    "import pandas as pd\n",
    "\n",
    "def get_df(path): #Funzione per restituire un df padas dato il path di un file json\n",
    "    with open(path, 'r+', encoding='utf-8') as openfile:   \n",
    "        streams_info = json.load(openfile)\n",
    "\n",
    "    return  pd.json_normalize(streams_info['pools'])"
   ]
  },
  {
   "cell_type": "code",
   "execution_count": null,
   "metadata": {},
   "outputs": [],
   "source": [
    "path = \"data_dd/s2/streams_data_dd1_day5.json\"\n",
    "df = get_df(path)\n",
    "display(df)"
   ]
  }
 ],
 "metadata": {
  "kernelspec": {
   "display_name": "base",
   "language": "python",
   "name": "python3"
  },
  "language_info": {
   "codemirror_mode": {
    "name": "ipython",
    "version": 3
   },
   "file_extension": ".py",
   "mimetype": "text/x-python",
   "name": "python",
   "nbconvert_exporter": "python",
   "pygments_lexer": "ipython3",
   "version": "3.11.5"
  }
 },
 "nbformat": 4,
 "nbformat_minor": 2
}
